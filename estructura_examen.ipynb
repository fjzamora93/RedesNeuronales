{
 "cells": [
  {
   "cell_type": "markdown",
   "metadata": {},
   "source": [
    "## Problema de clasificación con redes neuronales\n",
    "\n",
    "1. Carga de dataset y exploración de datos:\n",
    "    1.1. Hacer un value_counts con los valores de salida.\n",
    "    1.2. Ver qué tan balanceada está la muestra.\n",
    "    1.3. Hacer un shape para ver cuántos registros y columnas hay en total.\n",
    "\n",
    "2. Preprocesado de datos. \n",
    "    2.1. Hacer el OneHotEncoder para variables categóricas (si pueden tomar varios valores no ordenados).\n",
    "    2.2. Aplicar el LabenEncoder para las variables categóricas (si es que son ordinales)\n",
    "\n",
    "3. Definir los conjuntos de train y test:\n",
    "    3.1. x_train, x_test, y_train, y_test = train_test_split(x, y, test_size = 0.2, random_state = 0)\n",
    "    3.2. Ver el shape de cada uno de estos conjuntos.\n",
    "    3.3 Una vez están divididos, ahora sí podemos ESTANDARIZAR los conjuntos de X_train y X_test.\n",
    "\n",
    "4. Construcción de la RNA\n",
    "    4.1. model = Sequential()\n",
    "    4.2. model.add(Dense(units = 6, activation = 'relu', input_dim = 11))\n",
    "    4.3. model.add(Dropout(rate = 0.1))\n",
    "    4.4 rna.add(Dense(units = 1, kernel_initializer = \"uniform\",  activation = \"sigmoid\"))\n",
    "    4.5. model.compile(optimizer = 'adam', loss = 'binary_crossentropy', metrics = [\"accuracy\", \"Recall\", \"Precision\"])\n",
    "\n",
    "5. OPCIONAL: utilizamos el KerasClassifier para poder hacer la validación cruzada.\n",
    "        5.1. model = KerasClassifier(build_fn = build_classifier, batch_size = 10, epochs = 100)\n",
    "        5.2. Utilzamos cross_val_score o el cross_validate (dependiendo de nuestras métricas)\n",
    "        5.3. mean = accuracies.mean()\n",
    "        5.4. variance = accuracies.std()"
   ]
  }
 ],
 "metadata": {
  "language_info": {
   "name": "python"
  }
 },
 "nbformat": 4,
 "nbformat_minor": 2
}
